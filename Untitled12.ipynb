{
  "nbformat": 4,
  "nbformat_minor": 0,
  "metadata": {
    "colab": {
      "provenance": []
    },
    "kernelspec": {
      "name": "python3",
      "display_name": "Python 3"
    },
    "language_info": {
      "name": "python"
    }
  },
  "cells": [
    {
      "cell_type": "code",
      "execution_count": null,
      "metadata": {
        "id": "X8fUsJCj0Isk"
      },
      "outputs": [],
      "source": [
        "a = int(input(\"digite um numero \"))\n",
        "if a > 0:\n",
        " print(\"positivo\")\n",
        "elif a==0:\n",
        " print(\"seu numero e 0\")\n",
        "else:\n",
        " print(\"negativo\")\n",
        ""
      ]
    },
    {
      "cell_type": "code",
      "source": [
        "sexo = input(\"digite m para o sexo masculino ou f para o sexo feminino \")\n",
        "if sexo ==\"m\" or sexo == \"M\":\n",
        " print(\"sexo masculino\")\n",
        "elif sexo ==\"f\" or sexo == \"f\":\n",
        "  print(\"sexo feminino\")\n",
        "else:\n",
        "  print(\"invalido\")"
      ],
      "metadata": {
        "id": "OuvbE68a3i1T"
      },
      "execution_count": null,
      "outputs": []
    },
    {
      "cell_type": "code",
      "source": [
        "letra = input(\"digite uma letra \")\n",
        "if letra == \"A\" or letra == \"a\" or letra == \"E\" or letra == \"i\" or letra == \"I\" or letra == \"o\" or letra == \"O\" or letra == \"u\" or letra == \"U\":\n",
        " print(\"sua letra é uma vogal\")\n",
        "else:\n",
        "   print(\"sua letra é uma consoante\")"
      ],
      "metadata": {
        "id": "UrcqUazf3kuD"
      },
      "execution_count": null,
      "outputs": []
    },
    {
      "cell_type": "code",
      "source": [
        "parcial1 = int(input(\"digite sua nota\"))\n",
        "parcial2 = int(input(\"digite sua nota\"))\n",
        "final = (parcial1 + parcial2) / 2\n",
        "if final >= 10:\n",
        " print(\"voce foi aprovado com distinção\")\n",
        " print(final)\n",
        "elif final >= 7:\n",
        "  print(\"voce foi aprovado\")\n",
        "else:\n",
        " print(\"voce foi reprovado\")\n",
        " print(final)"
      ],
      "metadata": {
        "id": "Bl5Do3n63pH6"
      },
      "execution_count": null,
      "outputs": []
    },
    {
      "cell_type": "code",
      "source": [
        "a = int (input(\"digite um numero\"))\n",
        "b = int (input(\"digite um numero\"))\n",
        "c = int (input(\"digite um numero\"))\n",
        "if a > b and a > c:\n",
        " print(a)\n",
        "elif b > a and b > c:\n",
        " print(b)\n",
        "else:\n",
        "  if c > a and c > b:\n",
        "    print(c)"
      ],
      "metadata": {
        "id": "c-D0uiCi3tjo"
      },
      "execution_count": null,
      "outputs": []
    },
    {
      "cell_type": "code",
      "source": [
        "n1 = int (input(\"insira o primeiro numero \"))\n",
        "n2 = int (input(\"insira o segundo numero \"))\n",
        "n3 = int (input(\"insira o terceiro numero \"))\n",
        "if n1 >= n2 and n1 >= n3:\n",
        "  print(\"o maior é\",n1)\n",
        "elif n2 >= n1 and n2 >= n3:\n",
        "  print(\"o maior é\",n2)\n",
        "else:\n",
        "  if n3 >= n1 and n3 >= n2:\n",
        "    print(\"o maior é\",n3)\n",
        "if n1 <= n2 and n1 <= n3:\n",
        "  print(\"o menor é\",n1)\n",
        "elif n2 <= n1 and n2 <= n3:\n",
        "  print(\"o menor é\",n2)\n",
        "elif n3 <= n1 and n3 <= n2:\n",
        "    print(\"o menor é\",n3)"
      ],
      "metadata": {
        "id": "pTAJBP6w3xXG"
      },
      "execution_count": null,
      "outputs": []
    },
    {
      "cell_type": "code",
      "source": [
        "preço1 = int (input(\"insira o primeiro numero \"))\n",
        "preço2 = int (input(\"insira o segundo numero \"))\n",
        "preço3 = int (input(\"insira o terceiro numero \"))\n",
        "if preço1 <= preço2 and preço1 <= preço3:\n",
        "  print(\"o menor e mais indicado\",preço1)\n",
        "elif preço2 <= preço1 and preço2 <= preço3:\n",
        "  print(\"o menor e mais indicado\",preço2)\n",
        "else:\n",
        "  if preço3 <= preço1 and preço3 <= preço2:\n",
        "    print(\"o menor e mais indicado\",preço3)"
      ],
      "metadata": {
        "id": "w6ShwMdF31Rm"
      },
      "execution_count": null,
      "outputs": []
    },
    {
      "cell_type": "code",
      "source": [
        "a = int (input(\"digite um numero\"))\n",
        "b = int (input(\"digite um numero\"))\n",
        "c = int (input(\"digite um numero\"))\n",
        "if a > b and b > c:\n",
        "  print(a, b, c)\n",
        "elif a > b and b < c:\n",
        "  print (a, c, b)\n",
        "elif b > a and a < c:\n",
        "  print(b, c, a)\n",
        "elif b > a and a > c:\n",
        "  print(b, a, c)\n",
        "elif c > a and a > b:\n",
        "  print(c, a, b)\n",
        "elif c> b and b > a:\n",
        "  print(c, b, a)\n",
        "else:\n",
        "  print(\"seu numero esta repetido\")"
      ],
      "metadata": {
        "id": "_mRJYwuA35AO"
      },
      "execution_count": null,
      "outputs": []
    },
    {
      "cell_type": "code",
      "source": [
        "maior=0\n",
        "menor=0\n",
        "\n",
        "a= float(input(\"digite o primeiro numero\"))\n",
        "b= float(input(\"digite o segundo numero\"))\n",
        "c= float(input(\"digite o terceiro numero\"))\n",
        "\n",
        "if a >= b and a >= c:\n",
        "  maior=a\n",
        "elif b >= a and b >= c:\n",
        "  maior=b\n",
        "else:\n",
        "  maior=c\n",
        "if a <= b and a <= c:\n",
        "  menor=a\n",
        "elif b <= a and b <= c:\n",
        "  menor=b\n",
        "else:\n",
        "  menor=c\n",
        "\n",
        "  print(\"numero maior\", maior)\n",
        "  print(\"numero menor\", menor)"
      ],
      "metadata": {
        "id": "cWU6CKNp5xBi"
      },
      "execution_count": null,
      "outputs": []
    },
    {
      "cell_type": "code",
      "source": [
        "a = int(input(\"digite um numero\"))\n",
        "b = int(input(\"digite um numero\"))\n",
        "c = int(input(\"digite um numero\"))\n",
        "\n",
        "if a > b and a > c:\n",
        " print(\"a é o maior número\")\n",
        "if b > a and b > c:\n",
        " print(\"b é o maior número\")\n",
        "if c > a and c > b:\n",
        " print(\"c é o maior número\")"
      ],
      "metadata": {
        "id": "stMiliOK7ZXo"
      },
      "execution_count": null,
      "outputs": []
    },
    {
      "cell_type": "code",
      "source": [
        "turno= input(\"digite seu turno\")\n",
        "if turno ==\"m\" or turno == \"M\":\n",
        "  print(\"bom dia\")\n",
        "elif turno ==\"v\" or turno == \"V\":\n",
        "  print(\"boa tarde\")\n",
        "elif turno ==\"n\" or turno == \"N\":\n",
        "  print(\"boa noite\")"
      ],
      "metadata": {
        "id": "r4xFJv-k9BPU"
      },
      "execution_count": null,
      "outputs": []
    },
    {
      "cell_type": "code",
      "source": [
        "calendario= input(\"digite o dia da semana\")\n",
        "if calendario == \"1\" or calendario == \"1\":\n",
        " print(\"hoje é domingo\")\n",
        "elif calendario == \"2\" or calendario ==\"2\":\n",
        " print(\"hoje é segunda-feira\")\n",
        "elif calendario == \"3\" or calendario ==\"3\":\n",
        " print(\"hoje é terça-feira\")\n",
        "elif calendario == \"4\" or calendario ==\"4\":\n",
        " print(\"hoje é quarta-feira\")\n",
        "elif calendario == \"5\" or calendario ==\"5\":\n",
        " print(\"hoje é quinta-feira\")\n",
        "elif calendario == \"6\" or calendario ==\"6\":\n",
        " print(\"hoje é sexta-feira\")\n",
        "elif calendario == \"7\" or calendario ==\"7\":\n",
        " print(\"hoje é sábado\")\n",
        "else:\n",
        " print(\"valor invalido\")"
      ],
      "metadata": {
        "id": "JekL_tQH9LOS"
      },
      "execution_count": null,
      "outputs": []
    }
  ]
}